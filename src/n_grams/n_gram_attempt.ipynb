{
 "cells": [
  {
   "cell_type": "code",
   "execution_count": 1,
   "metadata": {
    "collapsed": true
   },
   "outputs": [],
   "source": [
    "import numpy as np"
   ]
  },
  {
   "cell_type": "code",
   "execution_count": 2,
   "metadata": {
    "collapsed": true
   },
   "outputs": [],
   "source": [
    "FILE_PATH = \"./dataset/w2_.txt\""
   ]
  },
  {
   "cell_type": "code",
   "execution_count": 88,
   "metadata": {
    "collapsed": false
   },
   "outputs": [],
   "source": [
    "class n_gram(object):\n",
    "    def __init__(self):\n",
    "        self.word_count = {}\n",
    "        self.word_index = {}\n",
    "        self.index = 0\n",
    "        self.matrix = {}\n",
    "        self.lines = []\n",
    "        self.evaluate_matrix = []\n",
    "    def read_file(self):\n",
    "        with open(FILE_PATH,\"rb\") as file:\n",
    "            for line in file:\n",
    "                self.lines.append(line.decode(\"ascii\",\"ignore\"))\n",
    "    def create_word_dict(self,word):\n",
    "#         if word in self.words_dict:\n",
    "#             self.words_dict[word] += 1\n",
    "#         else:\n",
    "#             self.words_dict[word] = 1\n",
    "        if word not in self.word_index:\n",
    "            self.word_index[word] = self.index\n",
    "            self.index += 1\n",
    "            #print(self.index)\n",
    "    def create_word_count(self,word_1,word_2):\n",
    "        if word_1 not in self.word_count:\n",
    "            self.word_count[word_1] = self.matrix[word_2][word_1]\n",
    "        if word_2 not in self.word_count:\n",
    "            self.word_count[word_2] = self.matrix[word_2][word_1]\n",
    "        if word_1 in self.word_count and word_2 in self.word_count:\n",
    "            self.word_count[word_1] += self.matrix[word_2][word_1]\n",
    "            self.word_count[word_2] += self.matrix[word_2][word_1]\n",
    "    def create_n_gram_matrix(self):\n",
    "        count = 0\n",
    "        temp_dict = {}\n",
    "        for n_gram in self.lines:\n",
    "            words = n_gram.split(\"\\t\")\n",
    "            for i,word in enumerate(words):\n",
    "                if i==1:\n",
    "                    self.create_word_dict(word)\n",
    "                elif i==2:\n",
    "                    self.create_word_dict(word[:-2])\n",
    "            if self.word_index[words[2][:-2]] not in self.matrix:\n",
    "                self.matrix[self.word_index[words[2][:-2]]] = {}\n",
    "            temp_dict = self.matrix[self.word_index[words[2][:-2]]]\n",
    "            temp_dict[self.word_index[words[1]]] = int(words[0])\n",
    "            self.matrix[self.word_index[words[2][:-2]]] = temp_dict\n",
    "            self.create_word_count(self.word_index[words[1]],self.word_index[words[2][:-2]])\n",
    "    def evaluate(self,string):\n",
    "        log_prob = 0\n",
    "        for i in range(len(string)):\n",
    "            if i+1 < len(string):\n",
    "                word_1 = self.word_index[string[i]]\n",
    "                word_2 = self.word_index[string[i+1]]\n",
    "                #print(string[i],string[i+1])\n",
    "                log_prob += self.matrix[word_2][word_1]/self.word_count[word_2]\n",
    "                print(\"string:{0},{1}----prob:{2}\".format(string[i],string[i+1],str(self.matrix[word_2][word_1]/self.word_count[word_2])))\n",
    "        return np.exp(log_prob)"
   ]
  },
  {
   "cell_type": "code",
   "execution_count": 89,
   "metadata": {
    "collapsed": true
   },
   "outputs": [],
   "source": [
    "n_gram_model = n_gram()"
   ]
  },
  {
   "cell_type": "code",
   "execution_count": 90,
   "metadata": {
    "collapsed": false
   },
   "outputs": [],
   "source": [
    "n_gram_model.read_file()"
   ]
  },
  {
   "cell_type": "code",
   "execution_count": 91,
   "metadata": {
    "collapsed": false
   },
   "outputs": [],
   "source": [
    "n_gram_model.create_n_gram_matrix()"
   ]
  },
  {
   "cell_type": "code",
   "execution_count": 92,
   "metadata": {
    "collapsed": false
   },
   "outputs": [
    {
     "name": "stdout",
     "output_type": "stream",
     "text": [
      "string:this,is----prob:0.03673779272899744\n",
      "string:is,a----prob:0.021154247286743786\n",
      "string:a,strange----prob:0.1586453775782715\n"
     ]
    },
    {
     "ename": "KeyError",
     "evalue": "14722",
     "output_type": "error",
     "traceback": [
      "\u001b[0;31m---------------------------------------------------------------------------\u001b[0m",
      "\u001b[0;31mKeyError\u001b[0m                                  Traceback (most recent call last)",
      "\u001b[0;32m<ipython-input-92-eaea6125fbd1>\u001b[0m in \u001b[0;36m<module>\u001b[0;34m()\u001b[0m\n\u001b[1;32m      1\u001b[0m \u001b[0mtext_to_evaluate\u001b[0m \u001b[0;34m=\u001b[0m \u001b[0;34m\"this is a strange choice of word\"\u001b[0m\u001b[0;34m.\u001b[0m\u001b[0msplit\u001b[0m\u001b[0;34m(\u001b[0m\u001b[0;34m)\u001b[0m\u001b[0;34m\u001b[0m\u001b[0m\n\u001b[0;32m----> 2\u001b[0;31m \u001b[0mprint\u001b[0m\u001b[0;34m(\u001b[0m\u001b[0mn_gram_model\u001b[0m\u001b[0;34m.\u001b[0m\u001b[0mevaluate\u001b[0m\u001b[0;34m(\u001b[0m\u001b[0mtext_to_evaluate\u001b[0m\u001b[0;34m)\u001b[0m\u001b[0;34m)\u001b[0m\u001b[0;34m\u001b[0m\u001b[0m\n\u001b[0m",
      "\u001b[0;32m<ipython-input-88-c4ad06c29f54>\u001b[0m in \u001b[0;36mevaluate\u001b[0;34m(self, string)\u001b[0m\n\u001b[1;32m     51\u001b[0m                 \u001b[0mword_2\u001b[0m \u001b[0;34m=\u001b[0m \u001b[0mself\u001b[0m\u001b[0;34m.\u001b[0m\u001b[0mword_index\u001b[0m\u001b[0;34m[\u001b[0m\u001b[0mstring\u001b[0m\u001b[0;34m[\u001b[0m\u001b[0mi\u001b[0m\u001b[0;34m+\u001b[0m\u001b[0;36m1\u001b[0m\u001b[0;34m]\u001b[0m\u001b[0;34m]\u001b[0m\u001b[0;34m\u001b[0m\u001b[0m\n\u001b[1;32m     52\u001b[0m                 \u001b[0;31m#print(string[i],string[i+1])\u001b[0m\u001b[0;34m\u001b[0m\u001b[0;34m\u001b[0m\u001b[0m\n\u001b[0;32m---> 53\u001b[0;31m                 \u001b[0mlog_prob\u001b[0m \u001b[0;34m+=\u001b[0m \u001b[0mself\u001b[0m\u001b[0;34m.\u001b[0m\u001b[0mmatrix\u001b[0m\u001b[0;34m[\u001b[0m\u001b[0mword_2\u001b[0m\u001b[0;34m]\u001b[0m\u001b[0;34m[\u001b[0m\u001b[0mword_1\u001b[0m\u001b[0;34m]\u001b[0m\u001b[0;34m/\u001b[0m\u001b[0mself\u001b[0m\u001b[0;34m.\u001b[0m\u001b[0mword_count\u001b[0m\u001b[0;34m[\u001b[0m\u001b[0mword_2\u001b[0m\u001b[0;34m]\u001b[0m\u001b[0;34m\u001b[0m\u001b[0m\n\u001b[0m\u001b[1;32m     54\u001b[0m                 \u001b[0mprint\u001b[0m\u001b[0;34m(\u001b[0m\u001b[0;34m\"string:{0},{1}----prob:{2}\"\u001b[0m\u001b[0;34m.\u001b[0m\u001b[0mformat\u001b[0m\u001b[0;34m(\u001b[0m\u001b[0mstring\u001b[0m\u001b[0;34m[\u001b[0m\u001b[0mi\u001b[0m\u001b[0;34m]\u001b[0m\u001b[0;34m,\u001b[0m\u001b[0mstring\u001b[0m\u001b[0;34m[\u001b[0m\u001b[0mi\u001b[0m\u001b[0;34m+\u001b[0m\u001b[0;36m1\u001b[0m\u001b[0;34m]\u001b[0m\u001b[0;34m,\u001b[0m\u001b[0mstr\u001b[0m\u001b[0;34m(\u001b[0m\u001b[0mself\u001b[0m\u001b[0;34m.\u001b[0m\u001b[0mmatrix\u001b[0m\u001b[0;34m[\u001b[0m\u001b[0mword_2\u001b[0m\u001b[0;34m]\u001b[0m\u001b[0;34m[\u001b[0m\u001b[0mword_1\u001b[0m\u001b[0;34m]\u001b[0m\u001b[0;34m/\u001b[0m\u001b[0mself\u001b[0m\u001b[0;34m.\u001b[0m\u001b[0mword_count\u001b[0m\u001b[0;34m[\u001b[0m\u001b[0mword_2\u001b[0m\u001b[0;34m]\u001b[0m\u001b[0;34m)\u001b[0m\u001b[0;34m)\u001b[0m\u001b[0;34m)\u001b[0m\u001b[0;34m\u001b[0m\u001b[0m\n\u001b[1;32m     55\u001b[0m         \u001b[0;32mreturn\u001b[0m \u001b[0mnp\u001b[0m\u001b[0;34m.\u001b[0m\u001b[0mexp\u001b[0m\u001b[0;34m(\u001b[0m\u001b[0mlog_prob\u001b[0m\u001b[0;34m)\u001b[0m\u001b[0;34m\u001b[0m\u001b[0m\n",
      "\u001b[0;31mKeyError\u001b[0m: 14722"
     ]
    }
   ],
   "source": [
    "text_to_evaluate = \"this is a strange choice of word\".split()\n",
    "print(n_gram_model.evaluate(text_to_evaluate))"
   ]
  },
  {
   "cell_type": "code",
   "execution_count": 73,
   "metadata": {
    "collapsed": false
   },
   "outputs": [
    {
     "name": "stdout",
     "output_type": "stream",
     "text": [
      "['this', 'is', 'so', 'strange', 'choice', 'word']\n"
     ]
    }
   ],
   "source": [
    "print(\"this is so strange choice word\".split())"
   ]
  },
  {
   "cell_type": "code",
   "execution_count": null,
   "metadata": {
    "collapsed": true
   },
   "outputs": [],
   "source": [
    "print(n_gram_model.matrix[n_gram_model.word_index[\"i\"]][n_gram_model.word_index[\"like\"]])\n",
    "#print(temp[n_gram_model.word_index[\"then\"]])\n",
    "print(n_gram_model.word_count[n_gram_model.word_index[\"like\"]])"
   ]
  }
 ],
 "metadata": {
  "anaconda-cloud": {},
  "kernelspec": {
   "display_name": "Python [conda root]",
   "language": "python",
   "name": "conda-root-py"
  },
  "language_info": {
   "codemirror_mode": {
    "name": "ipython",
    "version": 3
   },
   "file_extension": ".py",
   "mimetype": "text/x-python",
   "name": "python",
   "nbconvert_exporter": "python",
   "pygments_lexer": "ipython3",
   "version": "3.5.2"
  }
 },
 "nbformat": 4,
 "nbformat_minor": 1
}
